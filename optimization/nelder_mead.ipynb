{
 "cells": [
  {
   "cell_type": "markdown",
   "metadata": {},
   "source": [
    "# Nelder-Mead optimization"
   ]
  },
  {
   "cell_type": "code",
   "execution_count": 3,
   "metadata": {},
   "outputs": [],
   "source": [
    "import sys\n",
    "sys.path.append('D:/source/repos')\n",
    "from utilities.std_imports import *\n",
    "import scipy.optimize as so\n",
    "import numpy.random as rnd\n",
    "from numpy import exp, sqrt, cos, e, pi\n",
    "import simulation_optimization.optimization.opt_functions as of"
   ]
  },
  {
   "cell_type": "code",
   "execution_count": 10,
   "metadata": {},
   "outputs": [
    {
     "name": "stdout",
     "output_type": "stream",
     "text": [
      "Start point:  [ 3.36680855 -0.75813222]\n",
      "Iterations:  71\n",
      "Solution: f([ 2.96728373 -0.98913502]) = 7.96171\n"
     ]
    }
   ],
   "source": [
    "f_obj = of.ackley\n",
    "\n",
    "bounds = [-5, 5]\n",
    "start = bounds[0] + rnd.rand(2) * (bounds[1] - bounds[0])\n",
    "print('Start point: ', start)\n",
    "\n",
    "res = so.minimize(of.ackley, start, method='nelder-mead')\n",
    "print('Iterations: ' , res['nfev'])\n",
    "\n",
    "x = res['x']\n",
    "y = of.ackley(sol)\n",
    "print('Solution: f(%s) = %.5f' % (x, y))"
   ]
  },
  {
   "cell_type": "code",
   "execution_count": null,
   "metadata": {},
   "outputs": [],
   "source": []
  }
 ],
 "metadata": {
  "kernelspec": {
   "display_name": "Python 3.9 64-bit",
   "language": "python",
   "name": "python38164bitc33de82c9da04edea88eb124459bf44a"
  },
  "language_info": {
   "codemirror_mode": {
    "name": "ipython",
    "version": 3
   },
   "file_extension": ".py",
   "mimetype": "text/x-python",
   "name": "python",
   "nbconvert_exporter": "python",
   "pygments_lexer": "ipython3",
   "version": "3.9.2"
  }
 },
 "nbformat": 4,
 "nbformat_minor": 4
}
