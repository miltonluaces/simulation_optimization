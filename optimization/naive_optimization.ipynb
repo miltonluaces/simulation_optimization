{
 "cells": [
  {
   "cell_type": "markdown",
   "metadata": {},
   "source": [
    "# Naive optimization (random search)"
   ]
  },
  {
   "cell_type": "code",
   "execution_count": 1,
   "metadata": {},
   "outputs": [],
   "source": [
    "import sys\n",
    "sys.path.append('D:/source/repos')\n",
    "from utilities.std_imports import *\n",
    "import numpy.random as rnd"
   ]
  },
  {
   "cell_type": "markdown",
   "metadata": {},
   "source": [
    "### Functions"
   ]
  },
  {
   "cell_type": "code",
   "execution_count": 2,
   "metadata": {},
   "outputs": [],
   "source": [
    "def get_dimval(bounds, n):\n",
    "    return bounds[0] + rnd.rand(n) * (bounds[1] - bounds[0])"
   ]
  },
  {
   "cell_type": "code",
   "execution_count": 12,
   "metadata": {},
   "outputs": [],
   "source": [
    "def rand_optim(f_obj, bounds, n=100):\n",
    "    x = []\n",
    "    for i in range(len(bounds)):\n",
    "        xi = get_dimval(bounds[i], n)\n",
    "        x.append(xi)\n",
    "    X = np.transpose(x)\n",
    "    Y = [f_obj(x) for x in X]\n",
    "\n",
    "    opt_idx = 0\n",
    "    for i in range(len(X)):\n",
    "        if Y[i] < Y[opt_idx]:\n",
    "            opt_idx = i\n",
    "            return X[opt_idx], Y[opt_idx]"
   ]
  },
  {
   "cell_type": "markdown",
   "metadata": {},
   "source": [
    "### Testing with 1,2,3 dimensions"
   ]
  },
  {
   "cell_type": "code",
   "execution_count": 22,
   "metadata": {},
   "outputs": [
    {
     "name": "stdout",
     "output_type": "stream",
     "text": [
      "[1.74444559] [16.39468649]\n"
     ]
    }
   ],
   "source": [
    "def f1(X):\n",
    "    return X**3 + 2 * X**2 + 5\n",
    "\n",
    "x_opt, y_opt = rand_optim(f_obj=f1, bounds=[[-5,5]], n=100)\n",
    "print(x_opt, y_opt)"
   ]
  },
  {
   "cell_type": "code",
   "execution_count": 23,
   "metadata": {},
   "outputs": [
    {
     "name": "stdout",
     "output_type": "stream",
     "text": [
      "[0.11640575 4.73303539] 49.80482539675482\n"
     ]
    }
   ],
   "source": [
    "def f2(X):\n",
    "    return X[0]** 3 + 2 * X[1]**2 + 5\n",
    "\n",
    "x_opt, y_opt = rand_optim(f_obj=f2, bounds= [[-5,5],[-10,10]], n=100)\n",
    "print(x_opt, y_opt)"
   ]
  },
  {
   "cell_type": "code",
   "execution_count": 24,
   "metadata": {},
   "outputs": [
    {
     "name": "stdout",
     "output_type": "stream",
     "text": [
      "[ 1.1778995   0.84050825 -6.25157809] 8.047181637546535\n"
     ]
    }
   ],
   "source": [
    "def f3(X):\n",
    "    return X[0]** 3 + 2 * X[1]**2 + X[2]**4, 5\n",
    "\n",
    "x_opt, y_opt = rand_optim(f_obj=f2, bounds= [[-2,2],[-5,5], [-10,10]], n=100)\n",
    "print(x_opt, y_opt)"
   ]
  }
 ],
 "metadata": {
  "kernelspec": {
   "display_name": "Python 3.9 64-bit",
   "language": "python",
   "name": "python38164bitc33de82c9da04edea88eb124459bf44a"
  },
  "language_info": {
   "codemirror_mode": {
    "name": "ipython",
    "version": 3
   },
   "file_extension": ".py",
   "mimetype": "text/x-python",
   "name": "python",
   "nbconvert_exporter": "python",
   "pygments_lexer": "ipython3",
   "version": "3.9.2"
  }
 },
 "nbformat": 4,
 "nbformat_minor": 4
}
