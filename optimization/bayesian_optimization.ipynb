{
 "cells": [
  {
   "cell_type": "markdown",
   "metadata": {},
   "source": [
    "# Bayesian optimization"
   ]
  },
  {
   "cell_type": "code",
   "execution_count": 50,
   "metadata": {},
   "outputs": [],
   "source": [
    "from bayes_opt import BayesianOptimization\n",
    "import numpy.random as rnd\n",
    "from numpy import sin\n",
    "from math import pi\n",
    "rnd.seed = 9"
   ]
  },
  {
   "cell_type": "markdown",
   "metadata": {},
   "source": [
    "### Example"
   ]
  },
  {
   "cell_type": "code",
   "execution_count": 51,
   "metadata": {},
   "outputs": [],
   "source": [
    "def black_box_function(x, y):\n",
    "    return -x ** 2 - (y - 1) ** 2 + 1"
   ]
  },
  {
   "cell_type": "code",
   "execution_count": 52,
   "metadata": {},
   "outputs": [],
   "source": [
    "bounds = {'x': (2, 4), 'y': (-3, 3)}\n",
    "\n",
    "model = BayesianOptimization(f=black_box_function, pbounds=bounds)"
   ]
  },
  {
   "cell_type": "code",
   "execution_count": 53,
   "metadata": {},
   "outputs": [
    {
     "name": "stdout",
     "output_type": "stream",
     "text": [
      "|   iter    |  target   |     x     |     y     |\n",
      "-------------------------------------------------\n",
      "| \u001b[0m 1       \u001b[0m | \u001b[0m-15.47   \u001b[0m | \u001b[0m 2.39    \u001b[0m | \u001b[0m-2.28    \u001b[0m |\n",
      "| \u001b[0m 2       \u001b[0m | \u001b[0m-21.76   \u001b[0m | \u001b[0m 3.427   \u001b[0m | \u001b[0m-2.319   \u001b[0m |\n",
      "| \u001b[95m 3       \u001b[0m | \u001b[95m-10.96   \u001b[0m | \u001b[95m 3.356   \u001b[0m | \u001b[95m 1.83    \u001b[0m |\n",
      "| \u001b[0m 4       \u001b[0m | \u001b[0m-13.49   \u001b[0m | \u001b[0m 3.499   \u001b[0m | \u001b[0m 2.501   \u001b[0m |\n",
      "| \u001b[95m 5       \u001b[0m | \u001b[95m-5.68    \u001b[0m | \u001b[95m 2.501   \u001b[0m | \u001b[95m 1.652   \u001b[0m |\n",
      "=================================================\n"
     ]
    }
   ],
   "source": [
    "model.maximize(init_points=2,n_iter=3)"
   ]
  },
  {
   "cell_type": "code",
   "execution_count": 54,
   "metadata": {},
   "outputs": [
    {
     "data": {
      "text/plain": [
       "{'target': -5.680403113843214,\n",
       " 'params': {'x': 2.5009996974874533, 'y': 1.652229734841092}}"
      ]
     },
     "execution_count": 54,
     "metadata": {},
     "output_type": "execute_result"
    }
   ],
   "source": [
    "model.max"
   ]
  },
  {
   "cell_type": "markdown",
   "metadata": {},
   "source": [
    "### Function used in Bayesian optimization from scratch"
   ]
  },
  {
   "cell_type": "code",
   "execution_count": 55,
   "metadata": {},
   "outputs": [],
   "source": [
    "def f_obj(x, noise=0.1):\n",
    "    fun = x**2 * sin(5 * pi * x)**6.0\n",
    "    noise = rnd.normal(loc=0, scale=noise)\n",
    "    return fun + noise"
   ]
  },
  {
   "cell_type": "code",
   "execution_count": 56,
   "metadata": {},
   "outputs": [],
   "source": [
    "bounds = {'x': (0, 1)}\n",
    "\n",
    "model = BayesianOptimization(f=f_obj, pbounds=bounds)"
   ]
  },
  {
   "cell_type": "code",
   "execution_count": 57,
   "metadata": {},
   "outputs": [
    {
     "name": "stdout",
     "output_type": "stream",
     "text": [
      "|   iter    |  target   |     x     |\n",
      "-------------------------------------\n",
      "| \u001b[0m 1       \u001b[0m | \u001b[0m-0.2001  \u001b[0m | \u001b[0m 0.1745  \u001b[0m |\n",
      "| \u001b[95m 2       \u001b[0m | \u001b[95m-0.04433 \u001b[0m | \u001b[95m 0.9675  \u001b[0m |\n",
      "| \u001b[95m 3       \u001b[0m | \u001b[95m 0.4976  \u001b[0m | \u001b[95m 0.9258  \u001b[0m |\n",
      "| \u001b[95m 4       \u001b[0m | \u001b[95m 0.6122  \u001b[0m | \u001b[95m 0.9258  \u001b[0m |\n",
      "| \u001b[0m 5       \u001b[0m | \u001b[0m 0.5319  \u001b[0m | \u001b[0m 0.9261  \u001b[0m |\n",
      "=====================================\n"
     ]
    }
   ],
   "source": [
    "model.maximize(init_points=2,n_iter=3)"
   ]
  },
  {
   "cell_type": "code",
   "execution_count": 58,
   "metadata": {},
   "outputs": [
    {
     "data": {
      "text/plain": [
       "{'target': 0.6122418702765, 'params': {'x': 0.925835488694137}}"
      ]
     },
     "execution_count": 58,
     "metadata": {},
     "output_type": "execute_result"
    }
   ],
   "source": [
    "model.max"
   ]
  },
  {
   "cell_type": "markdown",
   "metadata": {},
   "source": [
    "### Credits & Links"
   ]
  },
  {
   "cell_type": "markdown",
   "metadata": {},
   "source": [
    "https://github.com/fmfn/BayesianOptimization"
   ]
  }
 ],
 "metadata": {
  "kernelspec": {
   "display_name": "Python 3.9 64-bit",
   "language": "python",
   "name": "python38164bitc33de82c9da04edea88eb124459bf44a"
  },
  "language_info": {
   "codemirror_mode": {
    "name": "ipython",
    "version": 3
   },
   "file_extension": ".py",
   "mimetype": "text/x-python",
   "name": "python",
   "nbconvert_exporter": "python",
   "pygments_lexer": "ipython3",
   "version": "3.9.2"
  }
 },
 "nbformat": 4,
 "nbformat_minor": 4
}
