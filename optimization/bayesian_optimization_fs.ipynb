{
 "cells": [
  {
   "cell_type": "markdown",
   "metadata": {},
   "source": [
    "# Bayesian Optimization from scratch"
   ]
  },
  {
   "cell_type": "code",
   "execution_count": 15,
   "metadata": {},
   "outputs": [],
   "source": [
    "import sys\n",
    "sys.path.append('D:/source/repos')\n",
    "from utilities.std_imports import *\n",
    "from sklearn.gaussian_process import GaussianProcessRegressor\n",
    "import numpy.random as rnd\n",
    "import scipy.stats as ss\n",
    "from math import pi\n",
    "from numpy import sin\n",
    "import warnings\n",
    "if not sys.warnoptions:\n",
    "    warnings.simplefilter(\"ignore\")\n",
    "rnd.seed = 9"
   ]
  },
  {
   "cell_type": "markdown",
   "metadata": {},
   "source": [
    "### Define Objective function"
   ]
  },
  {
   "cell_type": "code",
   "execution_count": 16,
   "metadata": {},
   "outputs": [],
   "source": [
    "def f_obj(x, noise=0.1):\n",
    "    fun = x**2 * sin(5 * pi * x)**6.0\n",
    "    noise = rnd.normal(loc=0, scale=noise)\n",
    "    return fun + noise"
   ]
  },
  {
   "cell_type": "markdown",
   "metadata": {},
   "source": [
    "### Generate noisy response"
   ]
  },
  {
   "cell_type": "code",
   "execution_count": 17,
   "metadata": {},
   "outputs": [
    {
     "data": {
      "text/html": [
       "<div>\n",
       "<style scoped>\n",
       "    .dataframe tbody tr th:only-of-type {\n",
       "        vertical-align: middle;\n",
       "    }\n",
       "\n",
       "    .dataframe tbody tr th {\n",
       "        vertical-align: top;\n",
       "    }\n",
       "\n",
       "    .dataframe thead th {\n",
       "        text-align: right;\n",
       "    }\n",
       "</style>\n",
       "<table border=\"1\" class=\"dataframe\">\n",
       "  <thead>\n",
       "    <tr style=\"text-align: right;\">\n",
       "      <th></th>\n",
       "      <th>y</th>\n",
       "      <th>y_noisy</th>\n",
       "    </tr>\n",
       "  </thead>\n",
       "  <tbody>\n",
       "    <tr>\n",
       "      <th>0</th>\n",
       "      <td>0.000000e+00</td>\n",
       "      <td>-0.039559</td>\n",
       "    </tr>\n",
       "    <tr>\n",
       "      <th>1</th>\n",
       "      <td>1.465530e-09</td>\n",
       "      <td>-0.171537</td>\n",
       "    </tr>\n",
       "    <tr>\n",
       "      <th>2</th>\n",
       "      <td>3.483006e-07</td>\n",
       "      <td>-0.141965</td>\n",
       "    </tr>\n",
       "    <tr>\n",
       "      <th>3</th>\n",
       "      <td>7.879943e-06</td>\n",
       "      <td>-0.077936</td>\n",
       "    </tr>\n",
       "    <tr>\n",
       "      <th>4</th>\n",
       "      <td>6.598301e-05</td>\n",
       "      <td>-0.209465</td>\n",
       "    </tr>\n",
       "    <tr>\n",
       "      <th>5</th>\n",
       "      <td>3.125000e-04</td>\n",
       "      <td>0.212581</td>\n",
       "    </tr>\n",
       "    <tr>\n",
       "      <th>6</th>\n",
       "      <td>1.009365e-03</td>\n",
       "      <td>0.162639</td>\n",
       "    </tr>\n",
       "    <tr>\n",
       "      <th>7</th>\n",
       "      <td>2.451779e-03</td>\n",
       "      <td>-0.079829</td>\n",
       "    </tr>\n",
       "    <tr>\n",
       "      <th>8</th>\n",
       "      <td>4.736068e-03</td>\n",
       "      <td>0.084810</td>\n",
       "    </tr>\n",
       "    <tr>\n",
       "      <th>9</th>\n",
       "      <td>7.519770e-03</td>\n",
       "      <td>-0.179232</td>\n",
       "    </tr>\n",
       "  </tbody>\n",
       "</table>\n",
       "</div>"
      ],
      "text/plain": [
       "              y   y_noisy\n",
       "0  0.000000e+00 -0.039559\n",
       "1  1.465530e-09 -0.171537\n",
       "2  3.483006e-07 -0.141965\n",
       "3  7.879943e-06 -0.077936\n",
       "4  6.598301e-05 -0.209465\n",
       "5  3.125000e-04  0.212581\n",
       "6  1.009365e-03  0.162639\n",
       "7  2.451779e-03 -0.079829\n",
       "8  4.736068e-03  0.084810\n",
       "9  7.519770e-03 -0.179232"
      ]
     },
     "execution_count": 17,
     "metadata": {},
     "output_type": "execute_result"
    }
   ],
   "source": [
    "X = np.arange(0, 1, 0.01)\n",
    "y = [f_obj(x, 0) for x in X]\n",
    "y_noisy = [f_obj(x, 0.1) for x in X]\n",
    "pd.DataFrame({'y': y, 'y_noisy':y_noisy}).head(10)"
   ]
  },
  {
   "cell_type": "markdown",
   "metadata": {},
   "source": [
    "### Calculate true optima, plot real function and noisy data"
   ]
  },
  {
   "cell_type": "code",
   "execution_count": 18,
   "metadata": {},
   "outputs": [
    {
     "name": "stdout",
     "output_type": "stream",
     "text": [
      "Optima: x=0.900, y=0.810\n"
     ]
    },
    {
     "data": {
      "image/png": "[encoded data removed]",
      "text/plain": [
       "<Figure size 1152x576 with 1 Axes>"
      ]
     },
     "metadata": {
      "needs_background": "light"
     },
     "output_type": "display_data"
    }
   ],
   "source": [
    "ix = np.argmax(y)\n",
    "print('Optima: x=%.3f, y=%.3f' % (X[ix], y[ix]))\n",
    "\n",
    "plt.figure(figsize=[16,8])\n",
    "plt.scatter(X, y_noisy)\n",
    "plt.plot(X, y, color='red');"
   ]
  },
  {
   "cell_type": "markdown",
   "metadata": {},
   "source": [
    "### Bayesian model"
   ]
  },
  {
   "cell_type": "markdown",
   "metadata": {},
   "source": [
    "##### Generate data and calculate objective function"
   ]
  },
  {
   "cell_type": "code",
   "execution_count": 19,
   "metadata": {},
   "outputs": [
    {
     "data": {
      "text/plain": [
       "((100, 1), (100, 1))"
      ]
     },
     "execution_count": 19,
     "metadata": {},
     "output_type": "execute_result"
    }
   ],
   "source": [
    "X = rnd.random(100)\n",
    "y = np.asarray([f_obj(x) for x in X])\n",
    "X = X.reshape(len(X), 1)\n",
    "y = y.reshape(len(y), 1)\n",
    "X.shape, y.shape"
   ]
  },
  {
   "cell_type": "markdown",
   "metadata": {},
   "source": [
    "##### Build model and fit"
   ]
  },
  {
   "cell_type": "code",
   "execution_count": 20,
   "metadata": {},
   "outputs": [],
   "source": [
    "model = GaussianProcessRegressor()\n",
    "model = model.fit(X, y)"
   ]
  },
  {
   "cell_type": "markdown",
   "metadata": {},
   "source": [
    "##### Use the model to define a Surrogate function"
   ]
  },
  {
   "cell_type": "code",
   "execution_count": 21,
   "metadata": {},
   "outputs": [],
   "source": [
    "def f_surgt(model, X):\n",
    "    return model.predict(X, return_std=True)"
   ]
  },
  {
   "cell_type": "markdown",
   "metadata": {},
   "source": [
    "##### Define an Aquisition function : Probability of improvement "
   ]
  },
  {
   "cell_type": "code",
   "execution_count": 22,
   "metadata": {},
   "outputs": [],
   "source": [
    "def f_acq(X, Xsamples, model):\n",
    "    yhat, _ = f_surgt(model, X)\n",
    "    best = max(yhat)\n",
    "    mu, std = f_surgt(model, Xsamples)\n",
    "    mu = mu[:, 0]\n",
    "    improv_probs = ss.norm.cdf((mu - best) / (std+1E-9))\n",
    "    return improv_probs"
   ]
  },
  {
   "cell_type": "code",
   "execution_count": 23,
   "metadata": {},
   "outputs": [],
   "source": [
    "def opt_acquisition(X, y, model):\n",
    "    Xsamples = rnd.random(100)\n",
    "    Xsamples = Xsamples.reshape(len(Xsamples), 1)\n",
    "    scores = f_acq(X, Xsamples, model)\n",
    "    idx = np.argmax(scores)\n",
    "    return Xsamples[idx, 0]"
   ]
  },
  {
   "cell_type": "markdown",
   "metadata": {},
   "source": [
    "### Perform Optimization"
   ]
  },
  {
   "cell_type": "code",
   "execution_count": 24,
   "metadata": {},
   "outputs": [],
   "source": [
    "def plot_xy(X, y, model, title):\n",
    "    plt.figure(figsize=[16,8])\n",
    "    plt.title(title)\n",
    "    plt.scatter(X, y, color='blue')\n",
    "    Xsamples = np.asarray(np.arange(0, 1, 0.001))\n",
    "    Xsamples = Xsamples.reshape(len(Xsamples), 1)\n",
    "    ysamples, _ = f_surgt(model, Xsamples)\n",
    "    plt.plot(Xsamples, ysamples, color='red')\n",
    "    plt.show()"
   ]
  },
  {
   "cell_type": "code",
   "execution_count": 25,
   "metadata": {},
   "outputs": [
    {
     "data": {
      "text/plain": [
       "0.43125"
      ]
     },
     "execution_count": 25,
     "metadata": {},
     "output_type": "execute_result"
    }
   ],
   "source": [
    "x=np.array([[0.43125]])\n",
    "x[0][0]\n",
    "#'{0:.3}'.format(x)"
   ]
  },
  {
   "cell_type": "code",
   "execution_count": 26,
   "metadata": {},
   "outputs": [
    {
     "data": {
      "image/png": "[encoded data removed]",
      "text/plain": [
       "<Figure size 1152x576 with 1 Axes>"
      ]
     },
     "metadata": {
      "needs_background": "light"
     },
     "output_type": "display_data"
    },
    {
     "name": "stdout",
     "output_type": "stream",
     "text": [
      "0 : x=  0.919  y_est=  0.308  y_act=  0.619\n",
      "1 : x=  0.711  y_est=  -0.0206  y_act=  0.254\n",
      "2 : x=  0.897  y_est=  0.315  y_act=  0.824\n",
      "3 : x=  0.912  y_est=  0.376  y_act=  0.943\n",
      "4 : x=  0.918  y_est=  0.426  y_act=  0.725\n",
      "5 : x=  0.908  y_est=  0.443  y_act=  0.726\n",
      "6 : x=  0.88  y_est=  0.402  y_act=  0.441\n",
      "7 : x=  0.926  y_est=  0.468  y_act=  0.369\n",
      "8 : x=  0.913  y_est=  0.464  y_act=  0.807\n",
      "9 : x=  0.916  y_est=  0.486  y_act=  0.58\n",
      "10 : x=  0.919  y_est=  0.491  y_act=  0.633\n",
      "11 : x=  0.923  y_est=  0.498  y_act=  0.645\n",
      "12 : x=  0.917  y_est=  0.507  y_act=  0.483\n",
      "13 : x=  0.916  y_est=  0.505  y_act=  0.673\n",
      "14 : x=  0.445  y_est=  0.165  y_act=  0.058\n",
      "15 : x=  0.46  y_est=  0.166  y_act=  0.245\n",
      "16 : x=  0.499  y_est=  0.169  y_act=  0.278\n",
      "17 : x=  0.918  y_est=  0.514  y_act=  0.916\n",
      "18 : x=  0.646  y_est=  0.00157  y_act=  0.0832\n",
      "19 : x=  0.571  y_est=  0.113  y_act=  0.0848\n",
      "20 : x=  0.565  y_est=  0.12  y_act=  -0.0971\n",
      "21 : x=  0.511  y_est=  0.163  y_act=  0.168\n",
      "22 : x=  0.525  y_est=  0.155  y_act=  0.0611\n",
      "23 : x=  0.919  y_est=  0.531  y_act=  0.586\n",
      "24 : x=  0.882  y_est=  0.463  y_act=  0.561\n",
      "25 : x=  0.92  y_est=  0.536  y_act=  0.481\n",
      "26 : x=  0.919  y_est=  0.534  y_act=  0.541\n",
      "27 : x=  0.591  y_est=  0.0744  y_act=  -0.0959\n",
      "28 : x=  0.736  y_est=  -0.0244  y_act=  0.161\n",
      "29 : x=  0.0446  y_est=  0.0195  y_act=  -0.0381\n",
      "30 : x=  0.826  y_est=  0.241  y_act=  -0.0344\n",
      "31 : x=  0.0753  y_est=  0.019  y_act=  -0.101\n",
      "32 : x=  0.887  y_est=  0.475  y_act=  0.644\n",
      "33 : x=  0.931  y_est=  0.525  y_act=  0.193\n",
      "34 : x=  0.914  y_est=  0.523  y_act=  0.542\n",
      "35 : x=  0.796  y_est=  0.12  y_act=  -0.0812\n",
      "36 : x=  0.908  y_est=  0.517  y_act=  0.92\n",
      "37 : x=  0.925  y_est=  0.534  y_act=  0.509\n",
      "38 : x=  0.958  y_est=  0.397  y_act=  0.0436\n",
      "39 : x=  0.916  y_est=  0.528  y_act=  0.784\n",
      "40 : x=  0.558  y_est=  0.115  y_act=  -0.0366\n",
      "41 : x=  0.926  y_est=  0.529  y_act=  0.513\n",
      "42 : x=  0.896  y_est=  0.51  y_act=  0.869\n",
      "43 : x=  0.121  y_est=  0.00412  y_act=  -0.00117\n",
      "44 : x=  0.888  y_est=  0.5  y_act=  0.804\n",
      "45 : x=  0.889  y_est=  0.511  y_act=  0.598\n",
      "46 : x=  0.916  y_est=  0.554  y_act=  0.633\n",
      "47 : x=  0.915  y_est=  0.556  y_act=  0.852\n",
      "48 : x=  0.917  y_est=  0.564  y_act=  0.721\n",
      "49 : x=  0.864  y_est=  0.435  y_act=  0.0238\n",
      "50 : x=  0.921  y_est=  0.56  y_act=  0.746\n",
      "51 : x=  0.645  y_est=  -0.0195  y_act=  -0.104\n",
      "52 : x=  0.925  y_est=  0.56  y_act=  0.531\n",
      "53 : x=  0.911  y_est=  0.563  y_act=  0.79\n",
      "54 : x=  0.919  y_est=  0.57  y_act=  0.846\n",
      "55 : x=  0.916  y_est=  0.577  y_act=  0.659\n",
      "56 : x=  0.923  y_est=  0.576  y_act=  0.701\n",
      "57 : x=  0.909  y_est=  0.577  y_act=  0.736\n",
      "58 : x=  0.922  y_est=  0.583  y_act=  0.576\n",
      "59 : x=  0.913  y_est=  0.584  y_act=  0.746\n",
      "60 : x=  0.913  y_est=  0.587  y_act=  0.815\n",
      "61 : x=  0.923  y_est=  0.59  y_act=  0.439\n",
      "62 : x=  0.972  y_est=  0.241  y_act=  0.037\n",
      "63 : x=  0.954  y_est=  0.432  y_act=  -0.0998\n",
      "64 : x=  0.764  y_est=  0.0168  y_act=  0.252\n",
      "65 : x=  0.906  y_est=  0.578  y_act=  0.846\n",
      "66 : x=  0.914  y_est=  0.586  y_act=  0.754\n",
      "67 : x=  0.929  y_est=  0.565  y_act=  0.516\n",
      "68 : x=  0.905  y_est=  0.584  y_act=  0.773\n",
      "69 : x=  0.178  y_est=  -0.0138  y_act=  0.12\n",
      "70 : x=  0.572  y_est=  0.0874  y_act=  0.059\n",
      "71 : x=  0.109  y_est=  0.0138  y_act=  -0.075\n",
      "72 : x=  0.656  y_est=  -0.0386  y_act=  0.0549\n",
      "73 : x=  0.11  y_est=  0.00813  y_act=  -0.0452\n",
      "74 : x=  0.875  y_est=  0.509  y_act=  0.613\n",
      "75 : x=  0.923  y_est=  0.584  y_act=  0.552\n",
      "76 : x=  0.913  y_est=  0.592  y_act=  0.814\n",
      "77 : x=  0.905  y_est=  0.592  y_act=  0.738\n",
      "78 : x=  0.91  y_est=  0.598  y_act=  0.95\n",
      "79 : x=  0.915  y_est=  0.604  y_act=  0.748\n",
      "80 : x=  0.915  y_est=  0.606  y_act=  0.544\n",
      "81 : x=  0.919  y_est=  0.602  y_act=  0.644\n",
      "82 : x=  0.918  y_est=  0.604  y_act=  0.769\n",
      "83 : x=  0.902  y_est=  0.601  y_act=  0.8\n",
      "84 : x=  0.908  y_est=  0.611  y_act=  0.784\n",
      "85 : x=  0.91  y_est=  0.614  y_act=  0.865\n",
      "86 : x=  0.914  y_est=  0.618  y_act=  0.603\n",
      "87 : x=  0.911  y_est=  0.618  y_act=  0.648\n",
      "88 : x=  0.908  y_est=  0.618  y_act=  0.792\n",
      "89 : x=  0.511  y_est=  0.159  y_act=  0.13\n",
      "90 : x=  0.914  y_est=  0.621  y_act=  0.549\n",
      "91 : x=  0.911  y_est=  0.62  y_act=  0.671\n",
      "92 : x=  0.912  y_est=  0.621  y_act=  0.777\n",
      "93 : x=  0.915  y_est=  0.622  y_act=  0.725\n",
      "94 : x=  0.907  y_est=  0.623  y_act=  0.82\n",
      "95 : x=  0.894  y_est=  0.603  y_act=  0.898\n",
      "96 : x=  0.886  y_est=  0.584  y_act=  0.669\n",
      "97 : x=  0.923  y_est=  0.62  y_act=  0.641\n",
      "98 : x=  0.916  y_est=  0.63  y_act=  0.649\n",
      "99 : x=  0.896  y_est=  0.615  y_act=  0.846\n"
     ]
    },
    {
     "data": {
      "image/png": "[encoded data removed]",
      "text/plain": [
       "<Figure size 1152x576 with 1 Axes>"
      ]
     },
     "metadata": {
      "needs_background": "light"
     },
     "output_type": "display_data"
    }
   ],
   "source": [
    "X = rnd.random(100)\n",
    "y = np.asarray([f_obj(x) for x in X])\n",
    "X = X.reshape(len(X), 1)\n",
    "y = y.reshape(len(y), 1)\n",
    "\n",
    "model = GaussianProcessRegressor()\n",
    "model = model.fit(X, y)\n",
    "plot_xy(X, y, model, 'Before: prior distribution of samples')\n",
    "\n",
    "iterations=100\n",
    "for i in range(iterations):\n",
    "    x = opt_acquisition(X, y, model)\n",
    "    y_act = f_obj(x)\n",
    "    y_est, _ = f_surgt(model, [[x]])\n",
    "    print(i, ': x= ', '{0:.3}'.format(x), ' y_est= ', '{0:.3}'.format(y_est[0][0]), ' y_act= ', '{0:.3}'.format(y_act))\n",
    "    X = np.vstack((X, [[x]]))\n",
    "    y = np.vstack((y, [[y_act]]))\n",
    "    model.fit(X, y)\n",
    "\n",
    "plot_xy(X, y, model, 'After: samples get more accurate')"
   ]
  },
  {
   "cell_type": "markdown",
   "metadata": {},
   "source": [
    "### Show results"
   ]
  },
  {
   "cell_type": "code",
   "execution_count": 27,
   "metadata": {},
   "outputs": [
    {
     "name": "stdout",
     "output_type": "stream",
     "text": [
      "Best Result: x=0.910, y=0.950\n"
     ]
    }
   ],
   "source": [
    "ix = np.argmax(y)\n",
    "print('Best Result: x=%.3f, y=%.3f' % (X[ix], y[ix]))"
   ]
  },
  {
   "cell_type": "markdown",
   "metadata": {},
   "source": [
    "### Credits & Links"
   ]
  },
  {
   "cell_type": "markdown",
   "metadata": {},
   "source": [
    "https://machinelearningmastery.com/what-is-bayesian-optimization/"
   ]
  }
 ],
 "metadata": {
  "kernelspec": {
   "display_name": "Python 3.9 64-bit",
   "language": "python",
   "name": "python38164bitc33de82c9da04edea88eb124459bf44a"
  },
  "language_info": {
   "codemirror_mode": {
    "name": "ipython",
    "version": 3
   },
   "file_extension": ".py",
   "mimetype": "text/x-python",
   "name": "python",
   "nbconvert_exporter": "python",
   "pygments_lexer": "ipython3",
   "version": "3.9.2"
  }
 },
 "nbformat": 4,
 "nbformat_minor": 4
}
