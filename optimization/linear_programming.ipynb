{
 "cells": [
  {
   "cell_type": "markdown",
   "metadata": {},
   "source": [
    "# Linear Programming"
   ]
  },
  {
   "cell_type": "markdown",
   "metadata": {},
   "source": [
    "### Problem definition"
   ]
  },
  {
   "cell_type": "markdown",
   "metadata": {},
   "source": [
    "Maximize:   \n",
    "$\\qquad z = x + 2y $\n",
    "\n",
    "Subject to:  \n",
    "$\\qquad 2x + y \\le 20 $  \n",
    "$\\qquad 4x + 5y \\le 10 $  \n",
    "$\\qquad -x + 2y \\ge -2 $  \n",
    "$\\qquad -x + 5y = 15 $  \n",
    "$\\qquad x \\ge 0 $   \n",
    "$\\qquad y \\ge 0 $  "
   ]
  },
  {
   "cell_type": "markdown",
   "metadata": {},
   "source": [
    "Same as Minimize:   \n",
    "$\\qquad -z =-x - 2y $\n",
    "\n",
    "Subject to:  \n",
    "$\\qquad 2x + y \\le 20 $  \n",
    "$\\qquad 4x + 5y \\le 10 $  \n",
    "$\\qquad x - 2y \\le 2 $  \n",
    "$\\qquad -x + 5y = 15 $  \n",
    "$\\qquad x \\ge 0 $   \n",
    "$\\qquad y \\ge 0 $  "
   ]
  },
  {
   "cell_type": "code",
   "execution_count": 1,
   "metadata": {},
   "outputs": [],
   "source": [
    "from scipy.optimize import linprog"
   ]
  },
  {
   "cell_type": "markdown",
   "metadata": {},
   "source": [
    "### Input values"
   ]
  },
  {
   "cell_type": "code",
   "execution_count": 7,
   "metadata": {},
   "outputs": [],
   "source": [
    "c = [-1, -2]\n",
    "\n",
    "A_ub = [[ 2,  1],  [-4,  5], [ 1, -2]]  \n",
    "b_ub = [20,  10, 2] \n",
    "\n",
    "A_eq = [[-1, 5]]  \n",
    "b_eq = [15]       \n",
    "\n",
    "bounds = [(0, float(\"inf\")),  (0, float(\"inf\"))] "
   ]
  },
  {
   "cell_type": "code",
   "execution_count": 8,
   "metadata": {},
   "outputs": [
    {
     "data": {
      "text/plain": [
       "     con: array([0.])\n",
       "     fun: -16.818181818181817\n",
       " message: 'Optimization terminated successfully.'\n",
       "     nit: 3\n",
       "   slack: array([ 0.        , 18.18181818,  3.36363636])\n",
       "  status: 0\n",
       " success: True\n",
       "       x: array([7.72727273, 4.54545455])"
      ]
     },
     "execution_count": 8,
     "metadata": {},
     "output_type": "execute_result"
    }
   ],
   "source": [
    "opt = linprog(c=c, A_ub=A_ub, b_ub=b_ub, A_eq=A_eq, b_eq=b_eq, bounds=bounds, method=\"revised simplex\")\n",
    "opt"
   ]
  },
  {
   "cell_type": "code",
   "execution_count": 9,
   "metadata": {},
   "outputs": [
    {
     "data": {
      "text/plain": [
       "(-16.818181818181817, True, array([7.72727273, 4.54545455]))"
      ]
     },
     "execution_count": 9,
     "metadata": {},
     "output_type": "execute_result"
    }
   ],
   "source": [
    "opt.fun, opt.success, opt.x"
   ]
  },
  {
   "cell_type": "code",
   "execution_count": 12,
   "metadata": {},
   "outputs": [
    {
     "data": {
      "text/plain": [
       "-16.818181818181817"
      ]
     },
     "metadata": {},
     "output_type": "display_data"
    },
    {
     "data": {
      "text/plain": [
       "-16.818181818181817"
      ]
     },
     "metadata": {},
     "output_type": "display_data"
    }
   ],
   "source": [
    "display(- opt.x[0] - 2 * opt.x[1])\n",
    "display(opt.fun)"
   ]
  },
  {
   "cell_type": "markdown",
   "metadata": {},
   "source": [
    "### Credits & Links"
   ]
  },
  {
   "cell_type": "markdown",
   "metadata": {},
   "source": [
    "https://realpython.com/linear-programming-python/"
   ]
  }
 ],
 "metadata": {
  "kernelspec": {
   "display_name": "Python 3.9 64-bit",
   "language": "python",
   "name": "python38164bitc33de82c9da04edea88eb124459bf44a"
  },
  "language_info": {
   "codemirror_mode": {
    "name": "ipython",
    "version": 3
   },
   "file_extension": ".py",
   "mimetype": "text/x-python",
   "name": "python",
   "nbconvert_exporter": "python",
   "pygments_lexer": "ipython3",
   "version": "3.9.2"
  }
 },
 "nbformat": 4,
 "nbformat_minor": 4
}
