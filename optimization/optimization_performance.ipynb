{
 "cells": [
  {
   "cell_type": "markdown",
   "metadata": {},
   "source": [
    "# Optimization performance"
   ]
  },
  {
   "cell_type": "code",
   "execution_count": 2,
   "metadata": {},
   "outputs": [],
   "source": [
    "import sys\n",
    "sys.path.append('D:/source/repos')\n",
    "from utilities.std_imports import *\n",
    "import scipy.optimize as so\n",
    "from pyswarm import pso\n",
    "import simulation_optimization.optimization.opt_functions as of\n",
    "from time import time"
   ]
  },
  {
   "cell_type": "markdown",
   "metadata": {},
   "source": [
    "### Differential evolution"
   ]
  },
  {
   "cell_type": "code",
   "execution_count": 31,
   "metadata": {},
   "outputs": [
    {
     "name": "stdout",
     "output_type": "stream",
     "text": [
      "Solution: f( [1. 1.] ) =  4.979684464207637e-30\n",
      "Total Evaluations:  4683\n",
      "Time:  0.23\n"
     ]
    }
   ],
   "source": [
    "lwr, upr = -5.0, 5.0\n",
    "t0 = time()\n",
    "res = so.differential_evolution(of.rosenbrock, [[lwr, upr], [lwr, upr]])\n",
    "t1 = time()\n",
    "\n",
    "print('Solution: f(', res.x, ') = ' , res.fun)\n",
    "print('Total Evaluations: ' , res['nfev'])\n",
    "print('Time: ', round(t1-t0,4))"
   ]
  },
  {
   "cell_type": "markdown",
   "metadata": {},
   "source": [
    "### PSO"
   ]
  },
  {
   "cell_type": "code",
   "execution_count": 32,
   "metadata": {},
   "outputs": [
    {
     "name": "stdout",
     "output_type": "stream",
     "text": [
      "Stopping search: Swarm best objective change less than 1e-08\n",
      "Solution: f( [1.00267522 1.00534554] ) =  7.171388510800795e-06\n",
      "Time:  0.076\n"
     ]
    }
   ],
   "source": [
    "t0 = time()\n",
    "x_sol, y_sol = pso(of.rosenbrock, [lwr,lwr], [upr,upr])\n",
    "t1 = time()\n",
    "print('Solution: f(', x_sol, ') = ' , y_sol)\n",
    "print('Time: ', round(t1-t0,4))"
   ]
  },
  {
   "cell_type": "code",
   "execution_count": null,
   "metadata": {},
   "outputs": [],
   "source": []
  }
 ],
 "metadata": {
  "kernelspec": {
   "display_name": "Python 3.9 64-bit",
   "language": "python",
   "name": "python38164bitc33de82c9da04edea88eb124459bf44a"
  },
  "language_info": {
   "codemirror_mode": {
    "name": "ipython",
    "version": 3
   },
   "file_extension": ".py",
   "mimetype": "text/x-python",
   "name": "python",
   "nbconvert_exporter": "python",
   "pygments_lexer": "ipython3",
   "version": "3.9.2"
  }
 },
 "nbformat": 4,
 "nbformat_minor": 4
}
