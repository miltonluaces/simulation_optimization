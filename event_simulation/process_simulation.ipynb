{
 "cells": [
  {
   "cell_type": "markdown",
   "metadata": {},
   "source": [
    "# Simulation"
   ]
  },
  {
   "cell_type": "code",
   "execution_count": 28,
   "metadata": {},
   "outputs": [],
   "source": [
    "import simpy\n",
    "import random as rnd\n",
    "import statistics as st"
   ]
  },
  {
   "cell_type": "markdown",
   "metadata": {},
   "source": [
    "### Define simulation: environment, resources and timing"
   ]
  },
  {
   "cell_type": "code",
   "execution_count": 37,
   "metadata": {},
   "outputs": [],
   "source": [
    "class Cinema():\n",
    "    def __init__(self, env, ncashiers, nservers, nushers):\n",
    "        self.env = simpy.Environment()\n",
    "        self.cashier = simpy.Resource(env, ncashiers)\n",
    "        self.server = simpy.Resource(env, nservers)\n",
    "        self.usher = simpy.Resource(env, nushers)\n",
    "\n",
    "    def purchase_ticket(self, customer):\n",
    "        yield self.env.timeout(rnd.randint(1, 3))\n",
    "\n",
    "    def check_ticket(self, customer):\n",
    "        yield self.env.timeout(3/60)\n",
    "\n",
    "    def sell_food(self, customer):\n",
    "        yield self.env.timeout(rnd.randint(1, 5))"
   ]
  },
  {
   "cell_type": "markdown",
   "metadata": {},
   "source": [
    "### Define action and general process"
   ]
  },
  {
   "cell_type": "code",
   "execution_count": 35,
   "metadata": {},
   "outputs": [],
   "source": [
    "def go_cinema(customer, cinema):\n",
    "    env = cinema.env\n",
    "    arrival_time = env.now\n",
    "\n",
    "    with cinema.cashier.request() as request:\n",
    "        yield request\n",
    "        yield env.process(cinema.purchase_ticket(customer))\n",
    "\n",
    "    with cinema.usher.request() as request:\n",
    "        yield request\n",
    "        yield env.process(cinema.check_ticket(customer))\n",
    "\n",
    "    if random.choice([True, False]):\n",
    "        with cinema.server.request() as request:\n",
    "            yield request\n",
    "            yield env.process(cinema.sell_food(customer))\n",
    "\n",
    "    # Customer heads into the theater\n",
    "    wait_times.append(env.now - arrival_time)\n",
    "\n",
    "\n",
    "def cinema_process(cinema, ncustomers):\n",
    "    \n",
    "    for customer in range(ncustomers):\n",
    "        env.process(go_cinema(customer, cinema))\n",
    "\n",
    "    while True:\n",
    "        yield env.timeout(0.20)  # Wait a bit before generating a new person\n",
    "\n",
    "        customer += 1\n",
    "        env.process(go_cinema(customer, cinema))\n",
    "\n",
    "\n",
    "def get_waittime(wait_times):\n",
    "    avg_wait = st.mean(wait_times)\n",
    "    mins, frac_min = divmod(avg_wait, 1)\n",
    "    secs = frac_min * 60\n",
    "    return round(mins), round(secs)"
   ]
  },
  {
   "cell_type": "markdown",
   "metadata": {},
   "source": [
    "### Run simulation and get results"
   ]
  },
  {
   "cell_type": "code",
   "execution_count": 36,
   "metadata": {},
   "outputs": [
    {
     "name": "stdout",
     "output_type": "stream",
     "text": [
      "Running simulation... The average wait time is  33  minutes and  44  seconds.\n"
     ]
    }
   ],
   "source": [
    "cinema = Cinema(env, ncashiers=3, nservers=2, nushers=5)\n",
    "\n",
    "cinema.env.process(cinema_process(cinema=cinema, ncustomers=3))\n",
    "cinema.env.run(until=90)\n",
    "\n",
    "mins, secs = get_avg_waittime(wait_times)\n",
    "print('Running simulation... The average wait time is ', mins, ' minutes and ', secs ,' seconds.')"
   ]
  },
  {
   "cell_type": "markdown",
   "metadata": {},
   "source": [
    "### Credits & Links"
   ]
  },
  {
   "cell_type": "markdown",
   "metadata": {},
   "source": [
    "https://simpy.readthedocs.io/en/latest/examples/movie_renege.html  \n",
    "https://realpython.com/simpy-simulating-with-python/  \n",
    "http://users.iems.northwestern.edu/~nelsonb/IEMS435/PythonSim.pdf"
   ]
  }
 ],
 "metadata": {
  "kernelspec": {
   "display_name": "Python 3.9 64-bit",
   "language": "python",
   "name": "python38164bitc33de82c9da04edea88eb124459bf44a"
  },
  "language_info": {
   "codemirror_mode": {
    "name": "ipython",
    "version": 3
   },
   "file_extension": ".py",
   "mimetype": "text/x-python",
   "name": "python",
   "nbconvert_exporter": "python",
   "pygments_lexer": "ipython3",
   "version": "3.9.2"
  }
 },
 "nbformat": 4,
 "nbformat_minor": 4
}
