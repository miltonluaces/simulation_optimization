{
 "cells": [
  {
   "cell_type": "markdown",
   "metadata": {},
   "source": [
    "# Latency"
   ]
  },
  {
   "cell_type": "code",
   "execution_count": 1,
   "metadata": {},
   "outputs": [],
   "source": [
    "import simpy"
   ]
  },
  {
   "cell_type": "markdown",
   "metadata": {},
   "source": [
    "### Define process"
   ]
  },
  {
   "cell_type": "code",
   "execution_count": 7,
   "metadata": {},
   "outputs": [],
   "source": [
    "sim_time = 100\n",
    "\n",
    "class Cable(object):\n",
    "    def __init__(self, env, delay):\n",
    "        self.env = env\n",
    "        self.delay = delay\n",
    "        self.store = simpy.Store(env)\n",
    "\n",
    "    def latency(self, value):\n",
    "        yield self.env.timeout(self.delay)\n",
    "        self.store.put(value)\n",
    "\n",
    "    def put(self, value):\n",
    "        self.env.process(self.latency(value))\n",
    "\n",
    "    def get(self):\n",
    "        return self.store.get()\n",
    "\n",
    "\n",
    "def sender(env, cable):\n",
    "    while True:\n",
    "        yield env.timeout(5)\n",
    "        cable.put('Sender sent this at ' + str(env.now))\n",
    "\n",
    "\n",
    "def receiver(env, cable):\n",
    "    while True:\n",
    "        msg = yield cable.get()\n",
    "        print('Received this at ', env.now, ' while ', msg)"
   ]
  },
  {
   "cell_type": "markdown",
   "metadata": {},
   "source": [
    "### Run simulation"
   ]
  },
  {
   "cell_type": "code",
   "execution_count": 8,
   "metadata": {},
   "outputs": [
    {
     "name": "stdout",
     "output_type": "stream",
     "text": [
      "Event Latency \n",
      "\n",
      "Received this at  15  while  Sender sent this at 5\n",
      "Received this at  20  while  Sender sent this at 10\n",
      "Received this at  25  while  Sender sent this at 15\n",
      "Received this at  30  while  Sender sent this at 20\n",
      "Received this at  35  while  Sender sent this at 25\n",
      "Received this at  40  while  Sender sent this at 30\n",
      "Received this at  45  while  Sender sent this at 35\n",
      "Received this at  50  while  Sender sent this at 40\n",
      "Received this at  55  while  Sender sent this at 45\n",
      "Received this at  60  while  Sender sent this at 50\n",
      "Received this at  65  while  Sender sent this at 55\n",
      "Received this at  70  while  Sender sent this at 60\n",
      "Received this at  75  while  Sender sent this at 65\n",
      "Received this at  80  while  Sender sent this at 70\n",
      "Received this at  85  while  Sender sent this at 75\n",
      "Received this at  90  while  Sender sent this at 80\n",
      "Received this at  95  while  Sender sent this at 85\n"
     ]
    }
   ],
   "source": [
    "print('Event Latency \\n')\n",
    "\n",
    "env = simpy.Environment()\n",
    "\n",
    "cable = Cable(env, 10)\n",
    "proc_sender = sender(env, cable)\n",
    "proc_receiver = receiver(env, cable)\n",
    "\n",
    "env.process(proc_sender)\n",
    "env.process(proc_receiver)\n",
    "\n",
    "env.run(until=sim_time)"
   ]
  },
  {
   "cell_type": "markdown",
   "metadata": {},
   "source": [
    "### Credits & Links"
   ]
  },
  {
   "cell_type": "markdown",
   "metadata": {},
   "source": [
    "https://simpy.readthedocs.io/en/latest/examples/latency.html"
   ]
  }
 ],
 "metadata": {
  "kernelspec": {
   "display_name": "Python 3.9 64-bit",
   "language": "python",
   "name": "python38164bitc33de82c9da04edea88eb124459bf44a"
  },
  "language_info": {
   "codemirror_mode": {
    "name": "ipython",
    "version": 3
   },
   "file_extension": ".py",
   "mimetype": "text/x-python",
   "name": "python",
   "nbconvert_exporter": "python",
   "pygments_lexer": "ipython3",
   "version": "3.9.2"
  }
 },
 "nbformat": 4,
 "nbformat_minor": 4
}
