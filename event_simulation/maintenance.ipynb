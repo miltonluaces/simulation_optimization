{
 "cells": [
  {
   "cell_type": "markdown",
   "metadata": {},
   "source": [
    "# Maintenance simulation"
   ]
  },
  {
   "cell_type": "markdown",
   "metadata": {},
   "source": [
    "A workshop works continuously with *n* machines. A stream of jobs arrives. Each machine breaks down\n",
    "  periodically, repairs are carried out by one repairman (who hasother, less important tasks to perform, too). Broken machines\n",
    "  are tested, then continue."
   ]
  },
  {
   "cell_type": "code",
   "execution_count": 5,
   "metadata": {},
   "outputs": [],
   "source": [
    "import random as rnd\n",
    "import simpy "
   ]
  },
  {
   "cell_type": "code",
   "execution_count": 6,
   "metadata": {},
   "outputs": [],
   "source": [
    "seed = 42\n",
    "proc_mean = 10.0         \n",
    "proc_stdev= 2.0         \n",
    "mean_to_failure = 300\n",
    "failure_mean = 1 / mean_to_failure  \n",
    "repair_time = 30    \n",
    "task_time = 30    \n",
    "nMachines = 10    \n",
    "weeks = 4             \n",
    "sim_time = weeks * 7 * 24 * 60  "
   ]
  },
  {
   "cell_type": "code",
   "execution_count": 10,
   "metadata": {},
   "outputs": [],
   "source": [
    "def proc_time():\n",
    "    return rnd.normalvariate(proc_mean, proc_stdev)\n",
    "\n",
    "def time_to_failure():\n",
    "    return random.expovariate(failure_mean)\n",
    "\n",
    "\n",
    "class Machine():\n",
    "    \n",
    "    def __init__(self, env, name, repairman):\n",
    "        self.env = env\n",
    "        self.name = name\n",
    "        self.repairman = repairman\n",
    "        self.nparts = 0\n",
    "        self.broken = False\n",
    "        self.process = env.process(self.working(repairman))\n",
    "        env.process(self.failure())\n",
    "\n",
    "    def working(self, repairman):\n",
    "        while True:\n",
    "            ptime = proc_time()\n",
    "            while ptime > 0:\n",
    "                try:\n",
    "                    start = self.env.now\n",
    "                    yield self.env.timeout(ptime)\n",
    "                    ptime = 0\n",
    "\n",
    "                except simpy.Interrupt:\n",
    "                    self.broken = True\n",
    "                    ptime -= self.env.now - start  \n",
    "\n",
    "                    with repairman.request(priority=1) as req:\n",
    "                        yield req\n",
    "                        yield self.env.timeout(repair_time)\n",
    "\n",
    "                    self.broken = False\n",
    "\n",
    "            self.nparts += 1\n",
    "\n",
    "    def failure(self):\n",
    "        while True:\n",
    "            tfailure = time_to_failure()\n",
    "            yield self.env.timeout(tfailure)\n",
    "            if not self.broken:\n",
    "                self.process.interrupt()\n",
    "\n",
    "def low_priority_tasks(env, repairman):\n",
    "    while True:\n",
    "        ttime = task_time\n",
    "        while ttime:\n",
    "            with repairman.request(priority=2) as req:\n",
    "                yield req\n",
    "                try:\n",
    "                    start = env.now\n",
    "                    yield env.timeout(ttime)\n",
    "                    ttime = 0\n",
    "                except simpy.Interrupt:\n",
    "                    ttime -= env.now - start"
   ]
  },
  {
   "cell_type": "code",
   "execution_count": 14,
   "metadata": {},
   "outputs": [
    {
     "name": "stdout",
     "output_type": "stream",
     "text": [
      "Machine shop \n",
      "\n",
      "Machine shop results after 4  weeks\n",
      "0  made  3251  parts.\n",
      "1  made  3273  parts.\n",
      "2  made  3242  parts.\n",
      "3  made  3343  parts.\n",
      "4  made  3387  parts.\n",
      "5  made  3244  parts.\n",
      "6  made  3269  parts.\n",
      "7  made  3185  parts.\n",
      "8  made  3302  parts.\n",
      "9  made  3279  parts.\n"
     ]
    }
   ],
   "source": [
    "print('Machine shop \\n')\n",
    "random.seed(seed) \n",
    "\n",
    "env = simpy.Environment()\n",
    "repairman = simpy.PreemptiveResource(env, capacity=1)\n",
    "machines = [Machine(env, str(i), repairman) for i in range(nMachines)]\n",
    "env.process(low_priority_tasks(env, repairman))\n",
    "\n",
    "env.run(until=sim_time)\n",
    "\n",
    "print('Machine shop results after', weeks, ' weeks')\n",
    "for machine in machines:\n",
    "    print(machine.name, ' made ', machine.nparts, ' parts.')"
   ]
  },
  {
   "cell_type": "markdown",
   "metadata": {},
   "source": [
    "### Credits & Links"
   ]
  },
  {
   "cell_type": "markdown",
   "metadata": {},
   "source": [
    "https://simpy.readthedocs.io/en/latest/examples/machine_shop.html"
   ]
  }
 ],
 "metadata": {
  "kernelspec": {
   "display_name": "Python 3.9 64-bit",
   "language": "python",
   "name": "python38164bitc33de82c9da04edea88eb124459bf44a"
  },
  "language_info": {
   "codemirror_mode": {
    "name": "ipython",
    "version": 3
   },
   "file_extension": ".py",
   "mimetype": "text/x-python",
   "name": "python",
   "nbconvert_exporter": "python",
   "pygments_lexer": "ipython3",
   "version": "3.8.6"
  }
 },
 "nbformat": 4,
 "nbformat_minor": 4
}
