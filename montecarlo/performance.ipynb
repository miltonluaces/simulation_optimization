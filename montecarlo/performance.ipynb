{
 "cells": [
  {
   "cell_type": "markdown",
   "metadata": {},
   "source": [
    "# Performance on random generation and sampling"
   ]
  },
  {
   "cell_type": "code",
   "execution_count": 4,
   "metadata": {},
   "outputs": [],
   "source": [
    "import sys\n",
    "sys.path.append('D:/source/repos')\n",
    "from utilities.std_imports import *\n",
    "import random\n",
    "from collections import Counter\n",
    "import timeit"
   ]
  },
  {
   "cell_type": "code",
   "execution_count": 13,
   "metadata": {},
   "outputs": [],
   "source": [
    "def standard():\n",
    "  draws = np.random.choice(deck, size=num_draws, replace=True)\n",
    "  df = pd.DataFrame([Counter(draws)])/num_draws\n",
    "  print(df)\n",
    "\n",
    "def fast():    \n",
    "    unq,ids = np.unique(deck, return_inverse=True)\n",
    "    all_ids = np.random.choice(ids, size=num_draws, replace=True)\n",
    "    ar = np.bincount(all_ids)/num_draws\n",
    "    return pd.DataFrame(ar[None], columns=unq)"
   ]
  },
  {
   "cell_type": "code",
   "execution_count": 14,
   "metadata": {},
   "outputs": [],
   "source": [
    "deck = [c for c in ['9','10','Jack','Queen','King','Ace'] for _ in range(8)]\n",
    "num_draws = 1000000"
   ]
  },
  {
   "cell_type": "code",
   "execution_count": 15,
   "metadata": {},
   "outputs": [
    {
     "name": "stdout",
     "output_type": "stream",
     "text": [
      "       Jack        10       Ace    Queen      King         9\n",
      "0  0.166337  0.166239  0.166888  0.16697  0.166601  0.166965\n"
     ]
    },
    {
     "data": {
      "text/html": [
       "<div>\n",
       "<style scoped>\n",
       "    .dataframe tbody tr th:only-of-type {\n",
       "        vertical-align: middle;\n",
       "    }\n",
       "\n",
       "    .dataframe tbody tr th {\n",
       "        vertical-align: top;\n",
       "    }\n",
       "\n",
       "    .dataframe thead th {\n",
       "        text-align: right;\n",
       "    }\n",
       "</style>\n",
       "<table border=\"1\" class=\"dataframe\">\n",
       "  <thead>\n",
       "    <tr style=\"text-align: right;\">\n",
       "      <th></th>\n",
       "      <th>10</th>\n",
       "      <th>9</th>\n",
       "      <th>Ace</th>\n",
       "      <th>Jack</th>\n",
       "      <th>King</th>\n",
       "      <th>Queen</th>\n",
       "    </tr>\n",
       "  </thead>\n",
       "  <tbody>\n",
       "    <tr>\n",
       "      <th>0</th>\n",
       "      <td>0.166815</td>\n",
       "      <td>0.166858</td>\n",
       "      <td>0.166638</td>\n",
       "      <td>0.166513</td>\n",
       "      <td>0.16647</td>\n",
       "      <td>0.166706</td>\n",
       "    </tr>\n",
       "  </tbody>\n",
       "</table>\n",
       "</div>"
      ],
      "text/plain": [
       "         10         9       Ace      Jack     King     Queen\n",
       "0  0.166815  0.166858  0.166638  0.166513  0.16647  0.166706"
      ]
     },
     "execution_count": 15,
     "metadata": {},
     "output_type": "execute_result"
    }
   ],
   "source": [
    "standard()\n",
    "unique()"
   ]
  },
  {
   "cell_type": "markdown",
   "metadata": {},
   "source": [
    "### Credits & Links"
   ]
  },
  {
   "cell_type": "markdown",
   "metadata": {},
   "source": [
    "https://colab.research.google.com/drive/16B155Zr6CZPXu64cBlqQQ7RXkTB4f_y6\n",
    "https://stackoverflow.com/questions/56508345/fast-monte-carlo-simulation-with-numpy"
   ]
  }
 ],
 "metadata": {
  "kernelspec": {
   "display_name": "Python 3.9 64-bit",
   "language": "python",
   "name": "python38164bitc33de82c9da04edea88eb124459bf44a"
  },
  "language_info": {
   "codemirror_mode": {
    "name": "ipython",
    "version": 3
   },
   "file_extension": ".py",
   "mimetype": "text/x-python",
   "name": "python",
   "nbconvert_exporter": "python",
   "pygments_lexer": "ipython3",
   "version": "3.9.2"
  }
 },
 "nbformat": 4,
 "nbformat_minor": 4
}
